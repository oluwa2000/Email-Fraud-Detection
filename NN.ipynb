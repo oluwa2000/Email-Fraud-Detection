{
 "cells": [
  {
   "cell_type": "code",
   "execution_count": 1,
   "id": "001853eb-73e7-4f31-89dc-27ac8bda531d",
   "metadata": {},
   "outputs": [],
   "source": [
    "import pandas as pd\n",
    "import torch\n",
    "import torch.nn as nn\n",
    "import torch.nn.functional as F\n",
    "import torchvision\n",
    "import torchvision.transforms as transforms\n",
    "from torch.utils.data import Dataset,DataLoader, TensorDataset\n",
    "import math\n",
    "import matplotlib.pyplot as plt\n",
    "import numpy as np\n",
    "import ast\n",
    "import shutil\n",
    "import seaborn as sns\n",
    "import os\n",
    "from sklearn.model_selection import train_test_split\n",
    "import pickle\n",
    "from sklearn.metrics import accuracy_score, confusion_matrix, classification_report, f1_score, precision_score, recall_score, roc_auc_score"
   ]
  },
  {
   "cell_type": "code",
   "execution_count": 2,
   "id": "795ac8e4-bd23-4ea2-983d-b2efd76e6b2d",
   "metadata": {},
   "outputs": [],
   "source": [
    "data = pd.read_csv(\"fraud.csv\")\n",
    "data = data.dropna()\n",
    "data.reset_index(drop=True)\n",
    "half = len(data)//2\n",
    "data = data[:half]\n"
   ]
  },
  {
   "cell_type": "code",
   "execution_count": 3,
   "id": "51045fc3-5edd-4c32-a674-262f9a6c23fc",
   "metadata": {},
   "outputs": [],
   "source": [
    "X = data['Email Info']\n",
    "y = data['Class']"
   ]
  },
  {
   "cell_type": "code",
   "execution_count": 4,
   "id": "0a4a0013-a81c-4921-b3cb-887a3bf5448f",
   "metadata": {},
   "outputs": [],
   "source": [
    "x_train, x_test_valid, y_train, y_test_valid = train_test_split(X, y, test_size = 0.20)\n",
    "x_test, X_valid, y_test, y_valid = train_test_split(x_test_valid, y_test_valid, test_size=0.5, random_state=42)"
   ]
  },
  {
   "cell_type": "code",
   "execution_count": 5,
   "id": "2f1afedd-bd5d-4f7b-a0bc-5c58bdddbd36",
   "metadata": {},
   "outputs": [
    {
     "name": "stdout",
     "output_type": "stream",
     "text": [
      "(894, 90954)\n"
     ]
    },
    {
     "data": {
      "text/plain": [
       "(7152, 90954)"
      ]
     },
     "execution_count": 5,
     "metadata": {},
     "output_type": "execute_result"
    }
   ],
   "source": [
    "from sklearn.feature_extraction.text import CountVectorizer\n",
    "cv = CountVectorizer()\n",
    "cv.fit(data['Email Info'])\n",
    "x_train = cv.transform(x_train)\n",
    "x_test = cv.transform(x_test)\n",
    "x_valid = cv.transform(X_valid)\n",
    "print(x_test.shape)\n",
    "x_train.shape"
   ]
  },
  {
   "cell_type": "code",
   "execution_count": 6,
   "id": "45203a38-4ec1-4154-aaf6-2704ffa81aea",
   "metadata": {},
   "outputs": [],
   "source": [
    "#https://medium.com/analytics-vidhya/part-1-sentiment-analysis-in-pytorch-82b35edb40b8\n",
    "X_train_tensor = torch.from_numpy(x_train.todense()).float()\n",
    "X_test_tensor = torch.from_numpy(x_test.todense()).float()\n",
    "X_valid_tensor = torch.from_numpy(x_valid.todense()).float()\n",
    "Y_train_tensor = torch.from_numpy(np.array(y_train))\n",
    "Y_test_tensor = torch.from_numpy(np.array(y_test))\n",
    "Y_valid_tensor = torch.from_numpy(np.array(y_valid))"
   ]
  },
  {
   "cell_type": "code",
   "execution_count": 7,
   "id": "745a047b-8c0e-42ad-b884-fc3fc60c37f4",
   "metadata": {},
   "outputs": [],
   "source": [
    "train_data = TensorDataset(X_train_tensor, Y_train_tensor)\n",
    "test_data = TensorDataset(X_test_tensor, Y_test_tensor)\n",
    "valid_data = TensorDataset(X_valid_tensor, Y_valid_tensor)"
   ]
  },
  {
   "cell_type": "code",
   "execution_count": 8,
   "id": "20aebfc3-e2de-491d-99f1-7aa3a165257c",
   "metadata": {},
   "outputs": [],
   "source": [
    "train_loader = DataLoader(train_data,batch_size=16, shuffle=True,drop_last=True, num_workers=0)\n",
    "valid_loader = DataLoader(train_data,batch_size=16, shuffle=True,drop_last=True, num_workers=0)\n",
    "test_loader = DataLoader(train_data,batch_size=16, shuffle=True,drop_last=True, num_workers=0)"
   ]
  },
  {
   "cell_type": "code",
   "execution_count": 9,
   "id": "b6606fb3-b5e3-4a57-a693-b31a25217cdd",
   "metadata": {},
   "outputs": [],
   "source": [
    "vocab_size = 90954\n",
    "hidden_units = 3\n",
    "out_classes = 1\n",
    "class model(torch.nn.Module):\n",
    "    def __init__(self,vocab_size = vocab_size,hidden_units = hidden_units,num_classes = out_classes): \n",
    "      super(model, self).__init__()\n",
    "      #First fully connected layer\n",
    "      self.fc1 = torch.nn.Linear(vocab_size,hidden_units)\n",
    "      #Second fully connected layer\n",
    "      self.fc2 = torch.nn.Linear(hidden_units,num_classes)\n",
    "      #Final output of sigmoid function      \n",
    "      self.output = torch.nn.Sigmoid()\n",
    "    \n",
    "    def forward(self,x):\n",
    "          fc1 = self.fc1(x)\n",
    "          fc2 = self.fc2(fc1)\n",
    "          # y_pred = torch.nn.sigmoid(fc1)\n",
    "          # return y_pred\n",
    "          output = self.output(fc2)\n",
    "          return output[:, -1]\n",
    "\n",
    "model = model()"
   ]
  },
  {
   "cell_type": "code",
   "execution_count": 10,
   "id": "25ce1d15-4729-4ac6-98cb-8f27d21a2395",
   "metadata": {},
   "outputs": [
    {
     "data": {
      "text/plain": [
       "model(\n",
       "  (fc1): Linear(in_features=90954, out_features=3, bias=True)\n",
       "  (fc2): Linear(in_features=3, out_features=1, bias=True)\n",
       "  (output): Sigmoid()\n",
       ")"
      ]
     },
     "execution_count": 10,
     "metadata": {},
     "output_type": "execute_result"
    }
   ],
   "source": [
    "model.train()"
   ]
  },
  {
   "cell_type": "code",
   "execution_count": 11,
   "id": "e190635a-296d-4d39-9304-302f1698cc02",
   "metadata": {},
   "outputs": [],
   "source": [
    "num_epochs = 20\n",
    "\n",
    "LEARNING_RATE = 0.001\n"
   ]
  },
  {
   "cell_type": "code",
   "execution_count": 12,
   "id": "6a6dca98-f276-463a-89e4-3694b1b455ac",
   "metadata": {},
   "outputs": [],
   "source": [
    "optimizer =torch.optim.SGD(model.parameters(), lr=LEARNING_RATE)\n",
    "criterion = torch.nn.BCELoss()\n"
   ]
  },
  {
   "cell_type": "code",
   "execution_count": 14,
   "id": "8466dbf9-7e01-47b8-bb89-980c7f169124",
   "metadata": {},
   "outputs": [
    {
     "name": "stdout",
     "output_type": "stream",
     "text": [
      "Validation loss decreased from inf to 0.461237\n",
      "Saving New Model\n",
      "Validation loss decreased from 0.461237 to 0.405326\n",
      "Saving New Model\n",
      "Validation loss decreased from 0.405326 to 0.366029\n",
      "Saving New Model\n",
      "Validation loss decreased from 0.366029 to 0.333786\n",
      "Saving New Model\n",
      "Validation loss decreased from 0.333786 to 0.306463\n",
      "Saving New Model\n",
      "Validation loss decreased from 0.306463 to 0.282947\n",
      "Saving New Model\n",
      "Validation loss decreased from 0.282947 to 0.262725\n",
      "Saving New Model\n",
      "Validation loss decreased from 0.262725 to 0.245209\n",
      "Saving New Model\n",
      "Validation loss decreased from 0.245209 to 0.230062\n",
      "Saving New Model\n",
      "Validation loss decreased from 0.230062 to 0.217002\n",
      "Saving New Model\n",
      "Validation loss decreased from 0.217002 to 0.205488\n",
      "Saving New Model\n",
      "Validation loss decreased from 0.205488 to 0.195523\n",
      "Saving New Model\n",
      "Validation loss decreased from 0.195523 to 0.186818\n",
      "Saving New Model\n",
      "Validation loss decreased from 0.186818 to 0.179098\n",
      "Saving New Model\n",
      "Validation loss decreased from 0.179098 to 0.172294\n",
      "Saving New Model\n",
      "Validation loss decreased from 0.172294 to 0.166243\n",
      "Saving New Model\n",
      "Validation loss decreased from 0.166243 to 0.16086\n",
      "Saving New Model\n",
      "Validation loss decreased from 0.16086 to 0.15598\n",
      "Saving New Model\n",
      "Validation loss decreased from 0.15598 to 0.151593\n",
      "Saving New Model\n",
      "Validation loss decreased from 0.151593 to 0.147608\n",
      "Saving New Model\n"
     ]
    }
   ],
   "source": [
    "#https://github.com/vedaant-varshney/ImageClassifierCNN/blob/master/Image%20Classifier.ipynb\n",
    "# os.chdir('/Users/king.botti/Documents/CS488/models')\n",
    "n_total_steps = len(train_loader)\n",
    "# tracks validation loss change after each epoch\n",
    "minimum_validation_loss = np.inf \n",
    "for epoch in range(num_epochs):\n",
    "    for i, (images, labels) in enumerate(train_loader):\n",
    "        \n",
    "        train_loss = 0\n",
    "        valid_loss = 0\n",
    "\n",
    "        images = images\n",
    "        labels = labels\n",
    "        \n",
    "        # Forward pass\n",
    "        outputs = model(images)\n",
    "        loss = criterion(outputs, labels.float())\n",
    "\n",
    "        # Backward and optimize\n",
    "        optimizer.zero_grad()\n",
    "        loss.backward()\n",
    "        optimizer.step()\n",
    "\n",
    "        # train_loss += loss.item()*data.size(0)\n",
    "    model.eval()\n",
    "    for batch_index, (data, target) in enumerate(valid_loader):\n",
    "        # moves tensors to GPU\n",
    "        data, target = data, target\n",
    "        # forward pass\n",
    "        output = model(data)\n",
    "        # loss in batch\n",
    "        loss = criterion(output, target.float())\n",
    "        # update validation loss\n",
    "        valid_loss += loss.item()*data.size(0)\n",
    "\n",
    "    train_loss = train_loss/len(train_loader.sampler)\n",
    "    valid_loss = valid_loss/len(valid_loader.sampler)\n",
    "\n",
    "    if (i+1) % 2000 == 0:\n",
    "        print (f'Epoch [{epoch+1}/{num_epochs}], Step [{i+1}/{n_total_steps}], Loss: {loss.item():.4f}')\n",
    "\n",
    "    if valid_loss <= minimum_validation_loss:\n",
    "        print(f'Validation loss decreased from {round(minimum_validation_loss, 6)} to {round(valid_loss, 6)}')\n",
    "        torch.save(model.state_dict(), 'trained_model_nn.pt')\n",
    "        minimum_validation_loss = valid_loss\n",
    "        print('Saving New Model')"
   ]
  },
  {
   "cell_type": "code",
   "execution_count": 13,
   "id": "22c517fb-5bd8-4956-94ae-299ed67e876f",
   "metadata": {},
   "outputs": [
    {
     "data": {
      "text/plain": [
       "model(\n",
       "  (fc1): Linear(in_features=90954, out_features=3, bias=True)\n",
       "  (fc2): Linear(in_features=3, out_features=1, bias=True)\n",
       "  (output): Sigmoid()\n",
       ")"
      ]
     },
     "execution_count": 13,
     "metadata": {},
     "output_type": "execute_result"
    }
   ],
   "source": [
    "model.load_state_dict(torch.load('trained_model_nn.pt'))\n",
    "model.eval()"
   ]
  },
  {
   "cell_type": "code",
   "execution_count": 20,
   "id": "7c7988e4-f462-44e1-89f6-1cad679e5578",
   "metadata": {},
   "outputs": [
    {
     "name": "stdout",
     "output_type": "stream",
     "text": [
      "tensor([[0., 0., 0.,  ..., 0., 0., 0.],\n",
      "        [0., 0., 0.,  ..., 0., 0., 0.],\n",
      "        [1., 1., 0.,  ..., 0., 0., 0.],\n",
      "        ...,\n",
      "        [0., 0., 0.,  ..., 0., 0., 0.],\n",
      "        [0., 0., 0.,  ..., 0., 0., 0.],\n",
      "        [0., 0., 0.,  ..., 0., 0., 0.]])\n"
     ]
    },
    {
     "ename": "ZeroDivisionError",
     "evalue": "float division by zero",
     "output_type": "error",
     "traceback": [
      "\u001b[0;31m---------------------------------------------------------------------------\u001b[0m",
      "\u001b[0;31mZeroDivisionError\u001b[0m                         Traceback (most recent call last)",
      "\u001b[0;32m/tmp/ipykernel_17841/1191034418.py\u001b[0m in \u001b[0;36m<module>\u001b[0;34m\u001b[0m\n\u001b[1;32m     27\u001b[0m             \u001b[0mn_class_samples\u001b[0m\u001b[0;34m[\u001b[0m\u001b[0mlabel\u001b[0m\u001b[0;34m]\u001b[0m \u001b[0;34m+=\u001b[0m \u001b[0;36m1\u001b[0m\u001b[0;34m\u001b[0m\u001b[0;34m\u001b[0m\u001b[0m\n\u001b[1;32m     28\u001b[0m \u001b[0;34m\u001b[0m\u001b[0m\n\u001b[0;32m---> 29\u001b[0;31m     \u001b[0macc\u001b[0m \u001b[0;34m=\u001b[0m \u001b[0;36m100.0\u001b[0m \u001b[0;34m*\u001b[0m \u001b[0mn_correct\u001b[0m \u001b[0;34m/\u001b[0m \u001b[0mn_samples\u001b[0m\u001b[0;34m\u001b[0m\u001b[0;34m\u001b[0m\u001b[0m\n\u001b[0m\u001b[1;32m     30\u001b[0m     \u001b[0mprint\u001b[0m\u001b[0;34m(\u001b[0m\u001b[0;34mf'Accuracy of the network: {acc} %'\u001b[0m\u001b[0;34m)\u001b[0m\u001b[0;34m\u001b[0m\u001b[0;34m\u001b[0m\u001b[0m\n\u001b[1;32m     31\u001b[0m \u001b[0;34m\u001b[0m\u001b[0m\n",
      "\u001b[0;31mZeroDivisionError\u001b[0m: float division by zero"
     ]
    }
   ],
   "source": [
    "batch_size = 16\n",
    "with torch.no_grad():\n",
    "    y_pred = []\n",
    "    y_test = []\n",
    "    n_correct = 0\n",
    "    n_samples = 0\n",
    "    n_class_correct = [0 for i in range(2)]\n",
    "    n_class_samples = [0 for i in range(2)]\n",
    "    for images, labels in test_loader:\n",
    "        images = images\n",
    "        labels = labels\n",
    "        print(images)\n",
    "        break\n",
    "        outputs = model(images)\n",
    "        predicted = torch.round(outputs)\n",
    "        n_samples += labels.size(0)\n",
    "        n_correct += (predicted == labels).sum().item()\n",
    "        \n",
    "        for i in range(batch_size):\n",
    "            label = labels[i]\n",
    "            pred = predicted[i]\n",
    "            y_pred.append(int(pred))\n",
    "            y_test.append(int(label))\n",
    "            if (label == pred):\n",
    "                n_class_correct[label] += 1\n",
    "            n_class_samples[label] += 1\n",
    "            n_class_samples[label] += 1\n",
    "\n",
    "    acc = 100.0 * n_correct / n_samples\n",
    "    print(f'Accuracy of the network: {acc} %')\n",
    "\n",
    "    for i in range(2):\n",
    "        acc = 100.0 * n_class_correct[i] / n_class_samples[i]\n",
    "        print(f'Accuracy equals: {acc} %')"
   ]
  },
  {
   "cell_type": "code",
   "execution_count": 15,
   "id": "7f63ff2b-f1af-41b8-ada9-60d805ba0016",
   "metadata": {},
   "outputs": [
    {
     "name": "stdout",
     "output_type": "stream",
     "text": [
      "Accuracy is : 0.9566554809843401\n",
      "precision is : 0.9595550465666469\n",
      "f-1 score is : 0.9563182049433975\n",
      "recall score is: 0.9566554809843401\n"
     ]
    }
   ],
   "source": [
    "ac = accuracy_score(y_test, y_pred)\n",
    "cm = confusion_matrix(y_test, y_pred)\n",
    "pr = precision_score(y_test, y_pred,average='weighted')\n",
    "f1 = f1_score(y_test, y_pred,average='weighted')\n",
    "re = recall_score(y_test, y_pred,average='weighted')\n",
    "\n",
    "print(\"Accuracy is :\",ac)\n",
    "print(\"precision is :\",pr)\n",
    "print(\"f-1 score is :\",f1)\n",
    "print(\"recall score is:\", re)"
   ]
  },
  {
   "cell_type": "code",
   "execution_count": 16,
   "id": "29ba9732-c301-479e-b038-2bcb657cd940",
   "metadata": {},
   "outputs": [
    {
     "data": {
      "text/plain": [
       "array([[4059,    4],\n",
       "       [ 306, 2783]])"
      ]
     },
     "execution_count": 16,
     "metadata": {},
     "output_type": "execute_result"
    }
   ],
   "source": [
    "cm"
   ]
  },
  {
   "cell_type": "code",
   "execution_count": 17,
   "id": "5f1d3ae6-0af6-4210-a649-09b2e6c3f3f5",
   "metadata": {},
   "outputs": [],
   "source": [
    "columns = {\"Fraud\":1,\"Actual\":0}"
   ]
  },
  {
   "cell_type": "code",
   "execution_count": 18,
   "id": "55fa211b-6746-4e72-a272-9dfeb57e99e6",
   "metadata": {},
   "outputs": [],
   "source": [
    "cm_df = pd.DataFrame(cm,\n",
    "                     index = columns, \n",
    "                     columns = columns)"
   ]
  },
  {
   "cell_type": "code",
   "execution_count": 19,
   "id": "0cedc2a1-1712-442b-a886-b94ef51db310",
   "metadata": {},
   "outputs": [
    {
     "data": {
      "image/png": "[encoded data removed]",
      "text/plain": [
       "<Figure size 900x800 with 2 Axes>"
      ]
     },
     "metadata": {},
     "output_type": "display_data"
    }
   ],
   "source": [
    "plt.figure(figsize=(9, 8))\n",
    "sns.heatmap(cm_df, annot=True, center=1)\n",
    "plt.title('Confusion Matrix for Fraud Detection(NN)')\n",
    "# plt.colorbar()\n",
    "plt.ylabel('Actual Values')\n",
    "plt.xlabel('Predicted Values')\n",
    "plt.savefig('Confusion Matrix Fraud Detection NN')\n",
    "file = os.getcwd() + \"//Confusion Matrix fraud NN.png\"\n",
    "plt.show()"
   ]
  },
  {
   "cell_type": "code",
   "execution_count": 69,
   "id": "d7a0fbf3-4564-4261-be54-9e27df37d210",
   "metadata": {},
   "outputs": [
    {
     "name": "stdin",
     "output_type": "stream",
     "text": [
      " Use this link to change your password\n"
     ]
    },
    {
     "name": "stdout",
     "output_type": "stream",
     "text": [
      "\n",
      "This email has a 25.47% chance of being a Fraud \n",
      "\n",
      "It is predicted as Actual Email\n"
     ]
    }
   ],
   "source": [
    "def predict():\n",
    "    text = input()\n",
    "    x = cv.transform([text]).toarray()\n",
    "    x = torch.from_numpy(x).float()\n",
    "    predict = model(x)\n",
    "    # print(predict)\n",
    "    chances = round(float(predict) * 100,2)\n",
    "    predict = torch.round(predict)\n",
    "    columns = {1:\"Fraud\",0:\"Actual Email\"}\n",
    "    # print(columns[int(predict)])\n",
    "    new_line = '\\n'\n",
    "    print(f'{new_line}This email has a {chances}% chance of being a Fraud {new_line}{new_line}It is predicted as {columns[int(predict)]}')\n",
    "    return \n",
    "predict()"
   ]
  },
  {
   "cell_type": "code",
   "execution_count": null,
   "id": "73c76132-07fc-4f3f-a11a-40ffe97e0c1e",
   "metadata": {},
   "outputs": [],
   "source": []
  }
 ],
 "metadata": {
  "kernelspec": {
   "display_name": "Python 3 (ipykernel)",
   "language": "python",
   "name": "python3"
  },
  "language_info": {
   "codemirror_mode": {
    "name": "ipython",
    "version": 3
   },
   "file_extension": ".py",
   "mimetype": "text/x-python",
   "name": "python",
   "nbconvert_exporter": "python",
   "pygments_lexer": "ipython3",
   "version": "3.7.7"
  }
 },
 "nbformat": 4,
 "nbformat_minor": 5
}
