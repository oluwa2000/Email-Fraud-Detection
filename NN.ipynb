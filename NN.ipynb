{
 "cells": [
  {
   "cell_type": "code",
   "execution_count": 102,
   "id": "001853eb-73e7-4f31-89dc-27ac8bda531d",
   "metadata": {},
   "outputs": [],
   "source": [
    "import pandas as pd\n",
    "import torch\n",
    "import torch.nn as nn\n",
    "import torch.nn.functional as F\n",
    "import torchvision\n",
    "import torchvision.transforms as transforms\n",
    "from torch.utils.data import Dataset,DataLoader, TensorDataset\n",
    "import math\n",
    "import matplotlib.pyplot as plt\n",
    "import numpy as np\n",
    "import ast\n",
    "import shutil\n",
    "import seaborn as sns\n",
    "import os\n",
    "from PIL import Image\n",
    "import cv2\n",
    "from sklearn.model_selection import train_test_split\n",
    "import pickle\n",
    "from sklearn.metrics import accuracy_score, confusion_matrix, classification_report, f1_score, precision_score, recall_score, roc_auc_score"
   ]
  },
  {
   "cell_type": "code",
   "execution_count": 103,
   "id": "795ac8e4-bd23-4ea2-983d-b2efd76e6b2d",
   "metadata": {},
   "outputs": [],
   "source": [
    "data = pd.read_csv(\"fraud.csv\")\n",
    "data = data.dropna()\n",
    "data.reset_index(drop=True)\n",
    "half = len(data)//2\n",
    "data = data[:half]\n"
   ]
  },
  {
   "cell_type": "code",
   "execution_count": 104,
   "id": "51045fc3-5edd-4c32-a674-262f9a6c23fc",
   "metadata": {},
   "outputs": [],
   "source": [
    "X = data['Email Info']\n",
    "y = data['Class']"
   ]
  },
  {
   "cell_type": "code",
   "execution_count": 105,
   "id": "0a4a0013-a81c-4921-b3cb-887a3bf5448f",
   "metadata": {},
   "outputs": [],
   "source": [
    "x_train, x_test_valid, y_train, y_test_valid = train_test_split(X, y, test_size = 0.20)\n",
    "x_test, X_valid, y_test, y_valid = train_test_split(x_test_valid, y_test_valid, test_size=0.5, random_state=42)"
   ]
  },
  {
   "cell_type": "code",
   "execution_count": 106,
   "id": "2f1afedd-bd5d-4f7b-a0bc-5c58bdddbd36",
   "metadata": {},
   "outputs": [
    {
     "name": "stdout",
     "output_type": "stream",
     "text": [
      "(894, 90954)\n"
     ]
    },
    {
     "data": {
      "text/plain": [
       "(7152, 90954)"
      ]
     },
     "execution_count": 106,
     "metadata": {},
     "output_type": "execute_result"
    }
   ],
   "source": [
    "from sklearn.feature_extraction.text import CountVectorizer\n",
    "cv = CountVectorizer()\n",
    "cv.fit(data['Email Info'])\n",
    "x_train = cv.transform(x_train)\n",
    "x_test = cv.transform(x_test)\n",
    "x_valid = cv.transform(X_valid)\n",
    "print(x_test.shape)\n",
    "x_train.shape"
   ]
  },
  {
   "cell_type": "code",
   "execution_count": 107,
   "id": "45203a38-4ec1-4154-aaf6-2704ffa81aea",
   "metadata": {},
   "outputs": [],
   "source": [
    "#https://medium.com/analytics-vidhya/part-1-sentiment-analysis-in-pytorch-82b35edb40b8\n",
    "X_train_tensor = torch.from_numpy(x_train.todense()).float()\n",
    "X_test_tensor = torch.from_numpy(x_test.todense()).float()\n",
    "X_valid_tensor = torch.from_numpy(x_valid.todense()).float()\n",
    "Y_train_tensor = torch.from_numpy(np.array(y_train))\n",
    "Y_test_tensor = torch.from_numpy(np.array(y_test))\n",
    "Y_valid_tensor = torch.from_numpy(np.array(y_valid))"
   ]
  },
  {
   "cell_type": "code",
   "execution_count": 108,
   "id": "745a047b-8c0e-42ad-b884-fc3fc60c37f4",
   "metadata": {},
   "outputs": [],
   "source": [
    "train_data = TensorDataset(X_train_tensor, Y_train_tensor)\n",
    "test_data = TensorDataset(X_test_tensor, Y_test_tensor)\n",
    "valid_data = TensorDataset(X_valid_tensor, Y_valid_tensor)"
   ]
  },
  {
   "cell_type": "code",
   "execution_count": 109,
   "id": "20aebfc3-e2de-491d-99f1-7aa3a165257c",
   "metadata": {},
   "outputs": [],
   "source": [
    "train_loader = DataLoader(train_data,batch_size=16, shuffle=True,drop_last=True, num_workers=0)\n",
    "valid_loader = DataLoader(train_data,batch_size=16, shuffle=True,drop_last=True, num_workers=0)\n",
    "test_loader = DataLoader(train_data,batch_size=16, shuffle=True,drop_last=True, num_workers=0)"
   ]
  },
  {
   "cell_type": "code",
   "execution_count": 129,
   "id": "b6606fb3-b5e3-4a57-a693-b31a25217cdd",
   "metadata": {},
   "outputs": [],
   "source": [
    "vocab_size = 90954\n",
    "hidden_units = 3\n",
    "out_classes = 1\n",
    "class model(torch.nn.Module):\n",
    "    def __init__(self,vocab_size = vocab_size,hidden_units = hidden_units,num_classes = out_classes): \n",
    "      super(model, self).__init__()\n",
    "      #First fully connected layer\n",
    "      self.fc1 = torch.nn.Linear(vocab_size,hidden_units)\n",
    "      #Second fully connected layer\n",
    "      self.fc2 = torch.nn.Linear(hidden_units,num_classes)\n",
    "      #Final output of sigmoid function      \n",
    "      self.output = torch.nn.Sigmoid()\n",
    "    \n",
    "    def forward(self,x):\n",
    "          fc1 = self.fc1(x)\n",
    "          fc2 = self.fc2(fc1)\n",
    "          # y_pred = torch.nn.sigmoid(fc1)\n",
    "          # return y_pred\n",
    "          output = self.output(fc2)\n",
    "          return output[:, -1]\n",
    "\n",
    "model = model()"
   ]
  },
  {
   "cell_type": "code",
   "execution_count": 130,
   "id": "25ce1d15-4729-4ac6-98cb-8f27d21a2395",
   "metadata": {},
   "outputs": [
    {
     "data": {
      "text/plain": [
       "model(\n",
       "  (fc1): Linear(in_features=90954, out_features=3, bias=True)\n",
       "  (fc2): Linear(in_features=3, out_features=1, bias=True)\n",
       "  (output): Sigmoid()\n",
       ")"
      ]
     },
     "execution_count": 130,
     "metadata": {},
     "output_type": "execute_result"
    }
   ],
   "source": [
    "model.train()"
   ]
  },
  {
   "cell_type": "code",
   "execution_count": 131,
   "id": "e190635a-296d-4d39-9304-302f1698cc02",
   "metadata": {},
   "outputs": [],
   "source": [
    "num_epochs = 20\n",
    "\n",
    "LEARNING_RATE = 0.001\n"
   ]
  },
  {
   "cell_type": "code",
   "execution_count": 132,
   "id": "6a6dca98-f276-463a-89e4-3694b1b455ac",
   "metadata": {},
   "outputs": [],
   "source": [
    "optimizer =torch.optim.SGD(model.parameters(), lr=LEARNING_RATE)\n",
    "criterion = torch.nn.BCELoss()\n"
   ]
  },
  {
   "cell_type": "code",
   "execution_count": 133,
   "id": "1273d793-7052-402a-9f56-6d9ca59c0cb1",
   "metadata": {},
   "outputs": [
    {
     "name": "stdout",
     "output_type": "stream",
     "text": [
      "After 0 epoch training loss is 0.5422660708427429\n",
      "After 1 epoch training loss is 0.39276814460754395\n",
      "After 2 epoch training loss is 0.3573758900165558\n",
      "After 3 epoch training loss is 0.4203060269355774\n",
      "After 4 epoch training loss is 0.22761639952659607\n",
      "After 5 epoch training loss is 0.22459010779857635\n",
      "After 6 epoch training loss is 0.261107474565506\n",
      "After 7 epoch training loss is 0.20015831291675568\n",
      "After 8 epoch training loss is 0.33845293521881104\n",
      "After 9 epoch training loss is 0.1582053154706955\n",
      "After 10 epoch training loss is 0.2240990251302719\n",
      "After 11 epoch training loss is 0.12805670499801636\n",
      "After 12 epoch training loss is 0.290839821100235\n",
      "After 13 epoch training loss is 0.2037290334701538\n",
      "After 14 epoch training loss is 0.11044930666685104\n",
      "After 15 epoch training loss is 0.18104593455791473\n",
      "After 16 epoch training loss is 0.10290972888469696\n",
      "After 17 epoch training loss is 0.1418287754058838\n",
      "After 18 epoch training loss is 0.09765950590372086\n",
      "After 19 epoch training loss is 0.03043626993894577\n"
     ]
    }
   ],
   "source": [
    "for i in range(num_epochs):\n",
    "    for x_batch,y_batch in train_loader:\n",
    "       # model.train()\n",
    "       y_pred = model(x_batch)\n",
    "       loss = criterion(y_pred,y_batch.float())\n",
    "       loss.backward()\n",
    "       optimizer.step()\n",
    "       optimizer.zero_grad()\n",
    "    print('After {} epoch training loss is {}'.format(i,loss.item()))"
   ]
  },
  {
   "cell_type": "code",
   "execution_count": 137,
   "id": "8466dbf9-7e01-47b8-bb89-980c7f169124",
   "metadata": {},
   "outputs": [
    {
     "name": "stdout",
     "output_type": "stream",
     "text": [
      "Validation loss decreased from inf to 0.144236\n",
      "Saving New Model\n",
      "Validation loss decreased from 0.144236 to 0.14102\n",
      "Saving New Model\n",
      "Validation loss decreased from 0.14102 to 0.138065\n",
      "Saving New Model\n",
      "Validation loss decreased from 0.138065 to 0.135281\n",
      "Saving New Model\n",
      "Validation loss decreased from 0.135281 to 0.132693\n",
      "Saving New Model\n",
      "Validation loss decreased from 0.132693 to 0.13027\n",
      "Saving New Model\n",
      "Validation loss decreased from 0.13027 to 0.12799\n",
      "Saving New Model\n",
      "Validation loss decreased from 0.12799 to 0.125842\n",
      "Saving New Model\n",
      "Validation loss decreased from 0.125842 to 0.123801\n",
      "Saving New Model\n",
      "Validation loss decreased from 0.123801 to 0.12186\n",
      "Saving New Model\n",
      "Validation loss decreased from 0.12186 to 0.120015\n",
      "Saving New Model\n",
      "Validation loss decreased from 0.120015 to 0.118258\n",
      "Saving New Model\n",
      "Validation loss decreased from 0.118258 to 0.116559\n",
      "Saving New Model\n",
      "Validation loss decreased from 0.116559 to 0.114942\n",
      "Saving New Model\n",
      "Validation loss decreased from 0.114942 to 0.113379\n",
      "Saving New Model\n",
      "Validation loss decreased from 0.113379 to 0.111882\n",
      "Saving New Model\n",
      "Validation loss decreased from 0.111882 to 0.110429\n",
      "Saving New Model\n",
      "Validation loss decreased from 0.110429 to 0.109036\n",
      "Saving New Model\n",
      "Validation loss decreased from 0.109036 to 0.107667\n",
      "Saving New Model\n",
      "Validation loss decreased from 0.107667 to 0.106363\n",
      "Saving New Model\n"
     ]
    }
   ],
   "source": [
    "#https://github.com/vedaant-varshney/ImageClassifierCNN/blob/master/Image%20Classifier.ipynb\n",
    "# os.chdir('/Users/king.botti/Documents/CS488/models')\n",
    "n_total_steps = len(train_loader)\n",
    "# tracks validation loss change after each epoch\n",
    "minimum_validation_loss = np.inf \n",
    "for epoch in range(num_epochs):\n",
    "    for i, (images, labels) in enumerate(train_loader):\n",
    "        \n",
    "        train_loss = 0\n",
    "        valid_loss = 0\n",
    "\n",
    "        images = images\n",
    "        labels = labels\n",
    "        \n",
    "        # Forward pass\n",
    "        outputs = model(images)\n",
    "        loss = criterion(outputs, labels.float())\n",
    "\n",
    "        # Backward and optimize\n",
    "        optimizer.zero_grad()\n",
    "        loss.backward()\n",
    "        optimizer.step()\n",
    "\n",
    "        # train_loss += loss.item()*data.size(0)\n",
    "    model.eval()\n",
    "    for batch_index, (data, target) in enumerate(valid_loader):\n",
    "        # moves tensors to GPU\n",
    "        data, target = data, target\n",
    "        # forward pass\n",
    "        output = model(data)\n",
    "        # loss in batch\n",
    "        loss = criterion(output, target.float())\n",
    "        # update validation loss\n",
    "        valid_loss += loss.item()*data.size(0)\n",
    "\n",
    "    train_loss = train_loss/len(train_loader.sampler)\n",
    "    valid_loss = valid_loss/len(valid_loader.sampler)\n",
    "\n",
    "    if (i+1) % 2000 == 0:\n",
    "        print (f'Epoch [{epoch+1}/{num_epochs}], Step [{i+1}/{n_total_steps}], Loss: {loss.item():.4f}')\n",
    "\n",
    "    if valid_loss <= minimum_validation_loss:\n",
    "        print(f'Validation loss decreased from {round(minimum_validation_loss, 6)} to {round(valid_loss, 6)}')\n",
    "        torch.save(model.state_dict(), 'trained_model_age2.pt')\n",
    "        minimum_validation_loss = valid_loss\n",
    "        print('Saving New Model')"
   ]
  },
  {
   "cell_type": "code",
   "execution_count": 144,
   "id": "7c7988e4-f462-44e1-89f6-1cad679e5578",
   "metadata": {},
   "outputs": [
    {
     "name": "stdout",
     "output_type": "stream",
     "text": [
      "tensor([0.0298, 0.0869, 0.0540, 0.0514, 1.0000, 0.9846, 0.9805, 0.0606, 0.9994,\n",
      "        1.0000, 0.9995, 0.0761, 1.0000, 0.5879, 0.0754, 0.0792])\n",
      "tensor([0, 0, 0, 0, 1, 1, 1, 0, 1, 1, 1, 0, 1, 1, 0, 0])\n"
     ]
    },
    {
     "ename": "IndexError",
     "evalue": "invalid index of a 0-dim tensor. Use `tensor.item()` in Python or `tensor.item<T>()` in C++ to convert a 0-dim tensor to a number",
     "output_type": "error",
     "traceback": [
      "\u001b[0;31m---------------------------------------------------------------------------\u001b[0m",
      "\u001b[0;31mIndexError\u001b[0m                                Traceback (most recent call last)",
      "\u001b[0;32m/tmp/ipykernel_16437/618781837.py\u001b[0m in \u001b[0;36m<module>\u001b[0;34m\u001b[0m\n\u001b[1;32m     21\u001b[0m         \u001b[0;32mfor\u001b[0m \u001b[0mi\u001b[0m \u001b[0;32min\u001b[0m \u001b[0mrange\u001b[0m\u001b[0;34m(\u001b[0m\u001b[0mbatch_size\u001b[0m\u001b[0;34m)\u001b[0m\u001b[0;34m:\u001b[0m\u001b[0;34m\u001b[0m\u001b[0;34m\u001b[0m\u001b[0m\n\u001b[1;32m     22\u001b[0m             \u001b[0mlabel\u001b[0m \u001b[0;34m=\u001b[0m \u001b[0mlabels\u001b[0m\u001b[0;34m[\u001b[0m\u001b[0mi\u001b[0m\u001b[0;34m]\u001b[0m\u001b[0;34m\u001b[0m\u001b[0;34m\u001b[0m\u001b[0m\n\u001b[0;32m---> 23\u001b[0;31m             \u001b[0mpred\u001b[0m \u001b[0;34m=\u001b[0m \u001b[0mpredicted\u001b[0m\u001b[0;34m[\u001b[0m\u001b[0mi\u001b[0m\u001b[0;34m]\u001b[0m\u001b[0;34m\u001b[0m\u001b[0;34m\u001b[0m\u001b[0m\n\u001b[0m\u001b[1;32m     24\u001b[0m             \u001b[0my_pred\u001b[0m\u001b[0;34m.\u001b[0m\u001b[0mappend\u001b[0m\u001b[0;34m(\u001b[0m\u001b[0mint\u001b[0m\u001b[0;34m(\u001b[0m\u001b[0mpred\u001b[0m\u001b[0;34m)\u001b[0m\u001b[0;34m)\u001b[0m\u001b[0;34m\u001b[0m\u001b[0;34m\u001b[0m\u001b[0m\n\u001b[1;32m     25\u001b[0m             \u001b[0my_test\u001b[0m\u001b[0;34m.\u001b[0m\u001b[0mappend\u001b[0m\u001b[0;34m(\u001b[0m\u001b[0mint\u001b[0m\u001b[0;34m(\u001b[0m\u001b[0mlabel\u001b[0m\u001b[0;34m)\u001b[0m\u001b[0;34m)\u001b[0m\u001b[0;34m\u001b[0m\u001b[0;34m\u001b[0m\u001b[0m\n",
      "\u001b[0;31mIndexError\u001b[0m: invalid index of a 0-dim tensor. Use `tensor.item()` in Python or `tensor.item<T>()` in C++ to convert a 0-dim tensor to a number"
     ]
    }
   ],
   "source": [
    "batch_size = 16\n",
    "with torch.no_grad():\n",
    "    y_pred = []\n",
    "    y_test = []\n",
    "    n_correct = 0\n",
    "    n_samples = 0\n",
    "    n_class_correct = [0 for i in range(2)]\n",
    "    n_class_samples = [0 for i in range(2)]\n",
    "    for images, labels in test_loader:\n",
    "        images = images\n",
    "        labels = labels\n",
    "        outputs = model(images)\n",
    "        # max returns (value ,index)\n",
    "        print(outputs)\n",
    "        print(labels)\n",
    "        _, predicted = torch.max(outputs, 0)\n",
    "        # print(predicted)\n",
    "        n_samples += labels.size(0)\n",
    "        n_correct += (predicted == labels).sum().item()\n",
    "        \n",
    "        for i in range(batch_size):\n",
    "            label = labels[i]\n",
    "            pred = predicted[i]\n",
    "            y_pred.append(int(pred))\n",
    "            y_test.append(int(label))\n",
    "            if (label == pred):\n",
    "                n_class_correct[99] += 1\n",
    "            n_class_samples[99] += 1\n",
    "            if (label == pred):\n",
    "                n_class_correct[label] += 1\n",
    "            n_class_samples[label] += 1\n",
    "\n",
    "    acc = 100.0 * n_correct / n_samples\n",
    "    print(f'Accuracy of the network: {acc} %')\n",
    "\n",
    "    for i in range(2):\n",
    "        acc = 100.0 * n_class_correct[i] / n_class_samples[i]\n",
    "        print(f'Accuracy equals: {acc} %')"
   ]
  },
  {
   "cell_type": "code",
   "execution_count": null,
   "id": "29ba9732-c301-479e-b038-2bcb657cd940",
   "metadata": {},
   "outputs": [],
   "source": []
  }
 ],
 "metadata": {
  "kernelspec": {
   "display_name": "Python 3 (ipykernel)",
   "language": "python",
   "name": "python3"
  },
  "language_info": {
   "codemirror_mode": {
    "name": "ipython",
    "version": 3
   },
   "file_extension": ".py",
   "mimetype": "text/x-python",
   "name": "python",
   "nbconvert_exporter": "python",
   "pygments_lexer": "ipython3",
   "version": "3.7.7"
  }
 },
 "nbformat": 4,
 "nbformat_minor": 5
}
