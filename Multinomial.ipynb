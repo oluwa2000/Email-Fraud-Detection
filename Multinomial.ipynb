{
 "cells": [
  {
   "cell_type": "code",
   "execution_count": 95,
   "id": "4b9e86be-616a-45c0-ba8a-1af9e615d089",
   "metadata": {},
   "outputs": [],
   "source": [
    "import pandas as pd\n",
    "import csv\n",
    "import os\n",
    "import pandas as pd\n",
    "import xgboost as xgb\n",
    "import catboost \n",
    "from scipy import stats\n",
    "from sklearn.model_selection import train_test_split\n",
    "import numpy as np\n",
    "import re\n",
    "import seaborn as sns\n",
    "import matplotlib.pyplot as plt\n",
    "import warnings\n",
    "warnings.simplefilter(\"ignore\")\n",
    "import lightgbm as lgb\n",
    "import torch\n",
    "import torch.nn as nn\n",
    "import psycopg2\n",
    "import shutil\n",
    "from sklearn.metrics import accuracy_score, confusion_matrix, classification_report, f1_score, precision_score, recall_score, roc_auc_score\n",
    "from sklearn.model_selection import train_test_split\n",
    "from datetime import datetime\n",
    "import pickle\n",
    "# from data_collection import *\n",
    "# import PySimpleGUI"
   ]
  },
  {
   "cell_type": "code",
   "execution_count": 96,
   "id": "edbc6e5c-71af-424e-ae0d-b560619d99d1",
   "metadata": {},
   "outputs": [],
   "source": [
    "data = pd.read_csv(\"fraud.csv\")\n",
    "data = data.dropna()\n",
    "data.reset_index(drop=True)\n",
    "half = len(data)//2\n",
    "data = data[:half]\n"
   ]
  },
  {
   "cell_type": "code",
   "execution_count": 97,
   "id": "9ed1ffad-5c7b-4c62-817e-2b57d8bed987",
   "metadata": {},
   "outputs": [],
   "source": [
    "X = data['Email Info']\n",
    "y = data['Class']"
   ]
  },
  {
   "cell_type": "code",
   "execution_count": 98,
   "id": "4fea6135-267d-4459-b849-6b141d8c2be0",
   "metadata": {},
   "outputs": [
    {
     "data": {
      "text/plain": [
       "0    5042\n",
       "1    3899\n",
       "Name: Class, dtype: int64"
      ]
     },
     "execution_count": 98,
     "metadata": {},
     "output_type": "execute_result"
    }
   ],
   "source": [
    "data[\"Class\"].value_counts()"
   ]
  },
  {
   "cell_type": "code",
   "execution_count": 99,
   "id": "738c1d4f-8bde-4e45-bdd8-9344acabe976",
   "metadata": {},
   "outputs": [
    {
     "data": {
      "text/plain": [
       "0"
      ]
     },
     "execution_count": 99,
     "metadata": {},
     "output_type": "execute_result"
    }
   ],
   "source": [
    "X.isna().sum()"
   ]
  },
  {
   "cell_type": "code",
   "execution_count": 100,
   "id": "9701b01f-1da4-4106-af5e-92d92bef5196",
   "metadata": {},
   "outputs": [
    {
     "data": {
      "text/plain": [
       "(8941, 90954)"
      ]
     },
     "execution_count": 100,
     "metadata": {},
     "output_type": "execute_result"
    }
   ],
   "source": [
    "#https://www.analyticsvidhya.com/blog/2021/03/language-detection-using-natural-language-processing/?\n",
    "from sklearn.feature_extraction.text import CountVectorizer\n",
    "cv = CountVectorizer()\n",
    "X = cv.fit_transform(X).toarray()\n",
    "X.shape"
   ]
  },
  {
   "cell_type": "code",
   "execution_count": 101,
   "id": "0af5abc4-2e91-42d3-a25e-23937d75a0a7",
   "metadata": {},
   "outputs": [],
   "source": [
    "x_train, x_test_valid, y_train, y_test_valid = train_test_split(X, y, test_size = 0.20)\n",
    "x_test, X_valid, y_test, y_valid = train_test_split(x_test_valid, y_test_valid, test_size=0.5, random_state=42)"
   ]
  },
  {
   "cell_type": "code",
   "execution_count": 102,
   "id": "66c6509f-70fc-44c4-9529-dd2164cc9243",
   "metadata": {},
   "outputs": [
    {
     "name": "stdout",
     "output_type": "stream",
     "text": [
      "Duration of training: 0:00:31.427279\n"
     ]
    }
   ],
   "source": [
    "from sklearn.naive_bayes import MultinomialNB\n",
    "model = MultinomialNB()\n",
    "start_time = datetime.now()\n",
    "model.fit(x_train, y_train)\n",
    "end_time = datetime.now()\n",
    "print('Duration of training: {}'.format(end_time - start_time))"
   ]
  },
  {
   "cell_type": "code",
   "execution_count": 103,
   "id": "1e0af5db-66df-4a09-8cd8-2ab8a2c2eb63",
   "metadata": {},
   "outputs": [],
   "source": [
    "y_pred = model.predict(x_test)"
   ]
  },
  {
   "cell_type": "code",
   "execution_count": 104,
   "id": "698264fb-2313-4d31-9853-03ba5126f8ae",
   "metadata": {},
   "outputs": [],
   "source": [
    "filename = 'Multinomial_nb.sav'\n",
    "pickle.dump(model, open(filename, 'wb'))\n",
    "loaded_model = pickle.load(open(filename, 'rb'))"
   ]
  },
  {
   "cell_type": "code",
   "execution_count": 105,
   "id": "905993ee-13a0-4b25-b065-4a9a64e6a96f",
   "metadata": {},
   "outputs": [
    {
     "name": "stdout",
     "output_type": "stream",
     "text": [
      "Accuracy is : 0.970917225950783\n",
      "precision is : 0.9714779960877131\n",
      "f-1 score is : 0.9709583097397824\n",
      "recall score is: 0.970917225950783\n"
     ]
    }
   ],
   "source": [
    "ac = accuracy_score(y_test, y_pred)\n",
    "cm = confusion_matrix(y_test, y_pred)\n",
    "pr = precision_score(y_test, y_pred,average='weighted')\n",
    "f1 = f1_score(y_test, y_pred,average='weighted')\n",
    "re = recall_score(y_test, y_pred,average='weighted')\n",
    "\n",
    "print(\"Accuracy is :\",ac)\n",
    "print(\"precision is :\",pr)\n",
    "print(\"f-1 score is :\",f1)\n",
    "print(\"recall score is:\", re)"
   ]
  },
  {
   "cell_type": "code",
   "execution_count": 106,
   "id": "565c8f36-d572-43a0-83ab-4268420bf5f2",
   "metadata": {},
   "outputs": [
    {
     "name": "stdout",
     "output_type": "stream",
     "text": [
      "[[474  20]\n",
      " [  6 394]]\n"
     ]
    }
   ],
   "source": [
    "print(cm)"
   ]
  },
  {
   "cell_type": "code",
   "execution_count": 80,
   "id": "c3546737-14a0-4a1e-9fc0-0c93e753bc00",
   "metadata": {},
   "outputs": [],
   "source": [
    "def predict(text):\n",
    "    filename = 'Multinomial_nb.sav'\n",
    "    loaded_model = pickle.load(open(filename, 'rb'))\n",
    "    x = cv.transform([text]).toarray()\n",
    "    lang = loaded_model.predict(x)\n",
    "    # lang = le.inverse_transform(lang)\n",
    "    # print(\"The langauge is in\",lang[0])\n",
    "    print(lang)"
   ]
  },
  {
   "cell_type": "code",
   "execution_count": 81,
   "id": "33135dce-22e2-4095-8a1b-545de70f778d",
   "metadata": {},
   "outputs": [
    {
     "name": "stdout",
     "output_type": "stream",
     "text": [
      "[0]\n"
     ]
    }
   ],
   "source": [
    "predict(\"Hey, i have a great deal for you!\")"
   ]
  },
  {
   "cell_type": "code",
   "execution_count": null,
   "id": "4c2dcfff-0cee-4e97-8c65-207240ecefad",
   "metadata": {},
   "outputs": [],
   "source": []
  }
 ],
 "metadata": {
  "kernelspec": {
   "display_name": "Python 3 (ipykernel)",
   "language": "python",
   "name": "python3"
  },
  "language_info": {
   "codemirror_mode": {
    "name": "ipython",
    "version": 3
   },
   "file_extension": ".py",
   "mimetype": "text/x-python",
   "name": "python",
   "nbconvert_exporter": "python",
   "pygments_lexer": "ipython3",
   "version": "3.7.7"
  }
 },
 "nbformat": 4,
 "nbformat_minor": 5
}
